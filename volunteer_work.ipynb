{
 "cells": [
  {
   "cell_type": "code",
   "execution_count": 3,
   "metadata": {},
   "outputs": [],
   "source": [
    "import requests\n",
    "from bs4 import BeautifulSoup\n",
    "import json\n",
    "import pandas as pd\n",
    "import gspread\n",
    "from oauth2client.service_account import ServiceAccountCredentials\n",
    "from selenium import webdriver\n",
    "\n",
    "def return_club_info(url):\n",
    "    page = requests.get(url)\n",
    "    \n",
    "    soup = BeautifulSoup(page.content, \"html5lib\")\n",
    "    content = soup.find('div', {'class':\"engage-application\"}).find('script')\n",
    "    json_raw = content.text\n",
    "    json_raw = json_raw[25:-1]\n",
    "    \n",
    "    club_info = json.loads(json_raw)\n",
    "    \n",
    "    fields = [club_info['preFetchedData']['organization']['name'],\n",
    "          club_info['preFetchedData']['organization']['email'],\n",
    "          club_info['preFetchedData']['organization']['primaryContact']['firstName'],\n",
    "          club_info['preFetchedData']['organization']['primaryContact']['lastName'],\n",
    "          club_info['preFetchedData']['organization']['primaryContact']['primaryEmailAddress'],\n",
    "          club_info['preFetchedData']['organization']['contactInfo'][0]['phoneNumber'],\n",
    "          url,\n",
    "          club_info['preFetchedData']['organization']['socialMedia']['externalWebsite'],\n",
    "          club_info['preFetchedData']['organization']['socialMedia']['tumblrUrl'],\n",
    "          club_info['preFetchedData']['organization']['socialMedia']['facebookUrl'],\n",
    "          club_info['preFetchedData']['organization']['socialMedia']['instagramUrl'],\n",
    "          club_info['preFetchedData']['organization']['socialMedia']['twitterUrl'],\n",
    "          club_info['preFetchedData']['organization']['socialMedia']['twitterUserName']]\n",
    "    \n",
    "    for index in range(len(fields)):\n",
    "        if fields[index] == None:\n",
    "            fields[index] = ''\n",
    "    \n",
    "    contact_us_form_url = ''\n",
    "\n",
    "    if url[-1] != '/':\n",
    "        contact_us_form_url = url + '/contact'\n",
    "    else:\n",
    "        contact_us_form_url = url + 'contact'\n",
    "\n",
    "    data = {\n",
    "        'State':'',\n",
    "        'Volunteer':'',\n",
    "        'University':'',\n",
    "        'Department/Club Name':[fields[0]],\n",
    "        'Department/Club Email':[fields[1]],\n",
    "        'Contact Name':[fields[2] + ' ' + fields[3]],\n",
    "        'Contact Email':[fields[4]],\n",
    "        'Contact Phone Number':[fields[5]],\n",
    "        'Comments':[contact_us_form_url]\n",
    "    }\n",
    "\n",
    "    df = pd.DataFrame(data)\n",
    "    if fields[-1] != '' and fields[-1] != None:\n",
    "        fields[-1] = 'https://twitter.com/' + fields[-1]\n",
    "\n",
    "    for index in range(-6, 0):\n",
    "        if fields[index] == '' or fields[index] == None:\n",
    "            fields.pop(index)\n",
    "    \n",
    "    for social_media_contact in fields[6:]:\n",
    "        df_row = df.iloc[0,:].copy()\n",
    "        df_row['Comments'] = social_media_contact\n",
    "        df = df.append([df_row], ignore_index=True)\n",
    "    \n",
    "    scope = ['https://spreadsheets.google.com/feeds',\n",
    "             'https://www.googleapis.com/auth/drive']\n",
    "    credentials = ServiceAccountCredentials.from_json_keyfile_name(\n",
    "        'service_account.json', scope)\n",
    "\n",
    "    spreadsheetId = '1qsAF7EmTnFiiDc9Wamkm54dAy4SAjIVvk2DzR7JQbA4'  \n",
    "    sheetName = 'Master' \n",
    "\n",
    "    gc = gspread.authorize(credentials)\n",
    "    sh = gc.open_by_key(spreadsheetId)\n",
    "    \n",
    "    values = df.values.tolist()\n",
    "    sh.values_append(sheetName, {'valueInputOption': 'USER_ENTERED'}, {'values': values})\n",
    "    \n",
    "    return df"
   ]
  },
  {
   "cell_type": "code",
   "execution_count": 4,
   "metadata": {},
   "outputs": [
    {
     "ename": "TypeError",
     "evalue": "'NoneType' object is not subscriptable",
     "output_type": "error",
     "traceback": [
      "\u001b[1;31m---------------------------------------------------------------------------\u001b[0m",
      "\u001b[1;31mTypeError\u001b[0m                                 Traceback (most recent call last)",
      "\u001b[1;32m<ipython-input-4-a4b109196127>\u001b[0m in \u001b[0;36m<module>\u001b[1;34m\u001b[0m\n\u001b[0;32m      3\u001b[0m \u001b[0mbrowser\u001b[0m\u001b[1;33m.\u001b[0m\u001b[0mget\u001b[0m\u001b[1;33m(\u001b[0m\u001b[1;34m\"https://utrgv.campuslabs.com/engage/organization/continuing\"\u001b[0m\u001b[1;33m)\u001b[0m\u001b[1;33m\u001b[0m\u001b[1;33m\u001b[0m\u001b[0m\n\u001b[0;32m      4\u001b[0m \u001b[1;33m\u001b[0m\u001b[0m\n\u001b[1;32m----> 5\u001b[1;33m \u001b[0mreturn_club_info\u001b[0m\u001b[1;33m(\u001b[0m\u001b[1;34m'https://utrgv.campuslabs.com/engage/organization/continuing'\u001b[0m\u001b[1;33m)\u001b[0m\u001b[1;33m\u001b[0m\u001b[1;33m\u001b[0m\u001b[0m\n\u001b[0m",
      "\u001b[1;32m<ipython-input-3-989da34eb6a7>\u001b[0m in \u001b[0;36mreturn_club_info\u001b[1;34m(url)\u001b[0m\n\u001b[0;32m     19\u001b[0m     fields = [club_info['preFetchedData']['organization']['name'],\n\u001b[0;32m     20\u001b[0m           \u001b[0mclub_info\u001b[0m\u001b[1;33m[\u001b[0m\u001b[1;34m'preFetchedData'\u001b[0m\u001b[1;33m]\u001b[0m\u001b[1;33m[\u001b[0m\u001b[1;34m'organization'\u001b[0m\u001b[1;33m]\u001b[0m\u001b[1;33m[\u001b[0m\u001b[1;34m'email'\u001b[0m\u001b[1;33m]\u001b[0m\u001b[1;33m,\u001b[0m\u001b[1;33m\u001b[0m\u001b[1;33m\u001b[0m\u001b[0m\n\u001b[1;32m---> 21\u001b[1;33m           \u001b[0mclub_info\u001b[0m\u001b[1;33m[\u001b[0m\u001b[1;34m'preFetchedData'\u001b[0m\u001b[1;33m]\u001b[0m\u001b[1;33m[\u001b[0m\u001b[1;34m'organization'\u001b[0m\u001b[1;33m]\u001b[0m\u001b[1;33m[\u001b[0m\u001b[1;34m'primaryContact'\u001b[0m\u001b[1;33m]\u001b[0m\u001b[1;33m[\u001b[0m\u001b[1;34m'firstName'\u001b[0m\u001b[1;33m]\u001b[0m\u001b[1;33m,\u001b[0m\u001b[1;33m\u001b[0m\u001b[1;33m\u001b[0m\u001b[0m\n\u001b[0m\u001b[0;32m     22\u001b[0m           \u001b[0mclub_info\u001b[0m\u001b[1;33m[\u001b[0m\u001b[1;34m'preFetchedData'\u001b[0m\u001b[1;33m]\u001b[0m\u001b[1;33m[\u001b[0m\u001b[1;34m'organization'\u001b[0m\u001b[1;33m]\u001b[0m\u001b[1;33m[\u001b[0m\u001b[1;34m'primaryContact'\u001b[0m\u001b[1;33m]\u001b[0m\u001b[1;33m[\u001b[0m\u001b[1;34m'lastName'\u001b[0m\u001b[1;33m]\u001b[0m\u001b[1;33m,\u001b[0m\u001b[1;33m\u001b[0m\u001b[1;33m\u001b[0m\u001b[0m\n\u001b[0;32m     23\u001b[0m           \u001b[0mclub_info\u001b[0m\u001b[1;33m[\u001b[0m\u001b[1;34m'preFetchedData'\u001b[0m\u001b[1;33m]\u001b[0m\u001b[1;33m[\u001b[0m\u001b[1;34m'organization'\u001b[0m\u001b[1;33m]\u001b[0m\u001b[1;33m[\u001b[0m\u001b[1;34m'primaryContact'\u001b[0m\u001b[1;33m]\u001b[0m\u001b[1;33m[\u001b[0m\u001b[1;34m'primaryEmailAddress'\u001b[0m\u001b[1;33m]\u001b[0m\u001b[1;33m,\u001b[0m\u001b[1;33m\u001b[0m\u001b[1;33m\u001b[0m\u001b[0m\n",
      "\u001b[1;31mTypeError\u001b[0m: 'NoneType' object is not subscriptable"
     ]
    }
   ],
   "source": [
    "browser = webdriver.Chrome()\n",
    "\n",
    "browser.get(\"https://utrgv.campuslabs.com/engage/organization/continuing\")\n",
    "\n",
    "return_club_info('https://utrgv.campuslabs.com/engage/organization/continuing')"
   ]
  },
  {
   "cell_type": "code",
   "execution_count": null,
   "metadata": {},
   "outputs": [],
   "source": [
    "#root_url = \"https://uh.campuslabs.com/engage/organizations/\"\n",
    "root_url = \"https://utrgv.campuslabs.com/engage/organizations/\"\n",
    "\n",
    "def add_query_to_root_url(query=\"health\"):\n",
    "    root_url_query = root_url + \"?query=\" + query\n",
    "    return root_url_query\n",
    "\n",
    "query_list = [\"health\", \"mental\", \"medical\"]\n",
    "\n",
    "for query in query_list:\n",
    "    browser = webdriver.Chrome()\n",
    "\n",
    "    browser.get(add_query_to_root_url(query))\n",
    "\n",
    "    elems = browser.find_elements_by_css_selector(\"ul a[href]\")\n",
    "    links = [elem.get_attribute('href') for elem in elems]\n",
    "    \n",
    "    for link in links:\n",
    "        print(link)\n",
    "        URL = link\n",
    "        return_club_info(URL)"
   ]
  },
  {
   "cell_type": "code",
   "execution_count": 2,
   "metadata": {},
   "outputs": [
    {
     "data": {
      "text/plain": [
       "['builtins',\n",
       " 'builtins',\n",
       " 'requests',\n",
       " 'json',\n",
       " 'pandas',\n",
       " 'gspread',\n",
       " 'selenium.webdriver',\n",
       " 'types']"
      ]
     },
     "execution_count": 2,
     "metadata": {},
     "output_type": "execute_result"
    }
   ],
   "source": [
    "import types\n",
    "def imports():\n",
    "    for name, val in globals().items():\n",
    "        if isinstance(val, types.ModuleType):\n",
    "            yield val.__name__\n",
    "list(imports())"
   ]
  },
  {
   "cell_type": "code",
   "execution_count": 8,
   "metadata": {},
   "outputs": [
    {
     "name": "stdout",
     "output_type": "stream",
     "text": [
      "{'institution': None, 'coverPhoto': {'id': 111740, 'imageId': '92f06ae7-9052-4d6b-9708-c51b5d93d874', 'imagePath': '71a6ce37-adc1-4251-89b9-351873e2672546d7adc0-d281-4b5b-8c3d-c6fa717de562.png', 'url': 'https://se-images-blob.campuslabs.com/communities/4/coverphotos/92f06ae7-9052-4d6b-9708-c51b5d93d874.jpg', 'thumbnailUrl': 'https://se-images-blob.campuslabs.com/communities/4/coverphotos/92f06ae7-9052-4d6b-9708-c51b5d93d874-thumbnail.jpg', 'caption': 'Uploaded cover photo has no appropriate alternative text', 'dateCreated': '2018-01-18T12:09:42-05:00', 'institutionId': 4}, 'user': None, 'preFetchedData': {'event': None, 'loadAdditionalEventDetails': False, 'organization': {'id': 59995, 'communityId': 252, 'institutionId': 4, 'name': 'LeaderShape Institute ', 'shortName': 'LeaderShape', 'nameSortKey': 'L', 'websiteKey': 'leadershape', 'email': 'leadership@utrgv.edu', 'description': '<p><strong>2017 Application:</strong></p>\\r\\n<p><strong><a href=\"https://www.leadershape.org/Account/Login?ReturnUrl=%2fApplications%2fApply%2f3519\">https://www.leadershape.org/Account/Login?ReturnUrl=%2fApplications%2fApply%2f3519</a></strong></p>\\r\\n<p>&nbsp;&nbsp;&nbsp;&nbsp;&nbsp;&nbsp;&nbsp;&nbsp;&nbsp;&nbsp;&nbsp;&nbsp;&nbsp;&nbsp;&nbsp;&nbsp;&nbsp;&nbsp;&nbsp;&nbsp;&nbsp;&nbsp;&nbsp;&nbsp;&nbsp;&nbsp;&nbsp;&nbsp;&nbsp;&nbsp;&nbsp;&nbsp;&nbsp;&nbsp;&nbsp;&nbsp;&nbsp;&nbsp;&nbsp;&nbsp;&nbsp;&nbsp;&nbsp;&nbsp;&nbsp;&nbsp;&nbsp;&nbsp;&nbsp;&nbsp;&nbsp;&nbsp;&nbsp;&nbsp;&nbsp;&nbsp;&nbsp;&nbsp;&nbsp;&nbsp;&nbsp;&nbsp;&nbsp;&nbsp;&nbsp;&nbsp;&nbsp;&nbsp;&nbsp;&nbsp;&nbsp;&nbsp;&nbsp;&nbsp;&nbsp;&nbsp;&nbsp;&nbsp;&nbsp;&nbsp;&nbsp;&nbsp;&nbsp;&nbsp;&nbsp;&nbsp;&nbsp;&nbsp;&nbsp;&nbsp;&nbsp;&nbsp;&nbsp;&nbsp;&nbsp;&nbsp;&nbsp;&nbsp;&nbsp;&nbsp;&nbsp;&nbsp;&nbsp;&nbsp;&nbsp;&nbsp;&nbsp;&nbsp;&nbsp;&nbsp;&nbsp;&nbsp;&nbsp;&nbsp;&nbsp;&nbsp;&nbsp;&nbsp;&nbsp;&nbsp;&nbsp;&nbsp;&nbsp;&nbsp;&nbsp;&nbsp;</p>\\r\\n<p><strong>To learn more about LeaderShape:</strong></p>\\r\\n<p><a href=\"https://www.facebook.com/l.php?u=https%3A%2F%2Fwww.leadershape.org%2Fapplications%2Fapply%2F2161&amp;h=iAQFCuet2&amp;enc=AZMl6L41-CaKDmZwHMVOwFcnF_vuux08vUnzKuIIS9UETViBVZLsF5GO8Tb2JwBrYx8vJ5CyMHTJajb83KzuUflG3tHaRvZp_4o0ESw3DyTh-cbRGOxOEJRtnIoHUnAq7fVsC5HGdZuxyg5ThGZU0_Va&amp;s=1\">https://www.leadershape.org</a></p>\\r\\n<p>&nbsp;</p>\\r\\n<p>The LeaderShape Institute is an extensive, energizing, and unique six day</p>\\r\\n<p>experience to develop young adults to lead with Integrity.</p>\\r\\n<p><strong>&nbsp;</strong><strong>Mission</strong></p>\\r\\n<p>To transform the world by increasing the number of people who lead with integrity and a healthy disregard for the impossible.</p>\\r\\n<p><strong>About LeaderShape </strong></p>\\r\\n<p>We are not talking about how to run a better meeting, how to get elected to an office, or how to conduct a bake sale. We are talking about changing the world. ...We are talking about getting out of your comfort zone and becoming the tipping point that changes everything. Any meaningful accomplishment, idea, business, or cause began with one person saying, &ldquo;I can do this better.&rdquo; Unfortunately, many people are happy with the way things are and that is why nothing changes. We are talking about leading &mdash; don\\'t care about your title. We care about the results. That is what we are&hellip;we are LeaderShape. We want to be a part of creating a just, caring, thriving world. Participants of our programs and members of our community know what that world is like because they have tasted it &mdash; even if only for a day. And they want more. Until we have that world, there is LeaderShape and we have work to do.</p>\\r\\n<p>INVITE YOUR FRIENDS!!</p>\\r\\n<p>&nbsp;For more information please call 956.882.6776 or 956.665.2660.</p>', 'summary': 'The LeaderShape Institute at UTRGV is a 6 day intensive leadership camp that is centered on the beliefs of leading with integrity to create a just, caring, thriving world. ', 'status': 'Active', 'comment': None, 'showJoin': False, 'statusChangeDateTime': '2018-12-04T16:54:15-05:00', 'startDate': '2012-03-30T00:00:00-04:00', 'endDate': None, 'parentId': 56846, 'wallId': 192268, 'discussionId': 192268, 'groupTypeId': None, 'organizationTypeId': 1693, 'cssConfigurationId': None, 'deleted': False, 'enableGoogleCalendar': False, 'modifiedOn': '2018-12-04T16:52:44-05:00', 'socialMedia': {'externalWebsite': '', 'flickrUrl': '', 'googleCalendarUrl': '', 'googlePlusUrl': '', 'instagramUrl': '', 'linkedInUrl': '', 'pinterestUrl': '', 'tumblrUrl': '', 'vimeoUrl': '', 'youtubeUrl': '', 'facebookUrl': 'https://www.facebook.com/UTRGVStudentLife', 'twitterUrl': None, 'twitterUserName': ''}, 'profilePicture': '52145a73-cded-4a52-8023-3e354ff1fbfd54369ef7-3178-4865-ad5d-90dcb27a4577.png', 'organizationType': {'id': 1693, 'name': 'Campus Departments', 'autoApproveRequests': False, 'showMembersToPublic': False, 'showOfficersToPublic': False, 'eventsEnabled': True, 'serviceHoursEnabled': True, 'financeEnabled': True, 'financeRequestsEnabled': True, 'fundingRequestsEnabled': True, 'purchaseRequestsEnabled': True, 'budgetingEnabled': True, 'budgetingRequestsEnabled': True, 'reRegistrationAvailabilty': None, 'electionsEnabled': True, 'formsEnabled': True, 'galleryEnabled': True, 'outcomesEnabled': True, 'rosterEnabled': True, 'shownInPublicDirectory': True, 'documentsEnabled': True, 'isSystemType': False, 'adminOnly': False}, 'primaryContact': None, 'isBranch': False, 'contactInfo': [{'id': 140226, 'addressType': 0, 'city': None, 'country': 'USA', 'deleted': False, 'extension': None, 'faxNumber': None, 'organizationId': 59995, 'phoneNumber': '(956) 882-6776', 'state': 'TX', 'street1': 'One West University Blvd. ● Brownsville', 'street2': '1201 W. University Drive ● Edinburg', 'zip': '78539'}], 'legacyKey': None, 'parentLegacyKey': None, 'legacyPrimaryContactKey': None, 'showFacebookWall': False, 'showTwitterFeed': False, 'submissions': [], 'visibility': 'Public', 'isShownInPublicDirectory': True, 'isAdminOnly': False, 'categories': []}, 'article': None}, 'imageServerBaseUrl': 'https://se-images.campuslabs.com/clink/images/', 'baseUrl': 'https://utrgv.campuslabs.com', 'serverSideContextRoot': '/engage', 'serviceOpportunitiesEnabled': False, 'xsrfToken': 'CfDJ8Az9GcAD4TpIm2NmyW6ywWG-_HmmfP0EC8NVmICyt3ce9TxSjqi3j45RiWHQygXfbNlxo6X7Dmi5868EpXYD3zjKhU_PPAo93MvtPAbxAX-W0u2DIHx5W-sw5tf1FjdKTuPyTzA9AA8IW-NYMwOV2FM', 'reCaptchaPublicKey': '6LdlpB0TAAAAAJ25ETYC1pRiwGiT7clzxta-HGH0', 'returnUrl': '', 'launchDarkly': {}}\n"
     ]
    }
   ],
   "source": [
    "def return_club_info(url):\n",
    "    page = requests.get(url)\n",
    "    \n",
    "    soup = BeautifulSoup(page.content, \"html5lib\")\n",
    "    content = soup.find('div', {'class':\"engage-application\"}).find('script')\n",
    "    json_raw = content.text\n",
    "    json_raw = json_raw[25:-1]\n",
    "    \n",
    "    print(json.loads(json_raw))\n",
    "\n",
    "return_club_info(\"https://utrgv.campuslabs.com/engage/organization/leadershape\")"
   ]
  },
  {
   "cell_type": "code",
   "execution_count": null,
   "metadata": {},
   "outputs": [],
   "source": []
  }
 ],
 "metadata": {
  "kernelspec": {
   "display_name": "Python 3",
   "language": "python",
   "name": "python3"
  },
  "language_info": {
   "codemirror_mode": {
    "name": "ipython",
    "version": 3
   },
   "file_extension": ".py",
   "mimetype": "text/x-python",
   "name": "python",
   "nbconvert_exporter": "python",
   "pygments_lexer": "ipython3",
   "version": "3.8.5"
  }
 },
 "nbformat": 4,
 "nbformat_minor": 4
}
